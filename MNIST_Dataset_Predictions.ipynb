{
 "cells": [
  {
   "cell_type": "markdown",
   "id": "36a394ab",
   "metadata": {},
   "source": [
    "# Fetching MNIST Dataset"
   ]
  },
  {
   "cell_type": "code",
   "execution_count": 1,
   "id": "819e8fca",
   "metadata": {},
   "outputs": [],
   "source": [
    "from sklearn.datasets import fetch_openml\n",
    "\n",
    "mnist = fetch_openml('mnist_784', as_frame=False)"
   ]
  },
  {
   "cell_type": "code",
   "execution_count": 2,
   "id": "9cdde4c7",
   "metadata": {},
   "outputs": [
    {
     "name": "stdout",
     "output_type": "stream",
     "text": [
      "**Author**: Yann LeCun, Corinna Cortes, Christopher J.C. Burges  \n",
      "**Source**: [MNIST Website](http://yann.lecun.com/exdb/mnist/) - Date unknown  \n",
      "**Please cite**:  \n",
      "\n",
      "The MNIST database of handwritten digits with 784 features, raw data available at: http://yann.lecun.com/exdb/mnist/. It can be split in a training set of the first 60,000 examples, and a test set of 10,000 examples  \n",
      "\n",
      "It is a subset of a larger set available from NIST. The digits have been size-normalized and centered in a fixed-size image. It is a good database for people who want to try learning techniques and pattern recognition methods on real-world data while spending minimal efforts on preprocessing and formatting. The original black and white (bilevel) images from NIST were size normalized to fit in a 20x20 pixel box while preserving their aspect ratio. The resulting images contain grey levels as a result of the anti-aliasing technique used by the normalization algorithm. the images were centered in a 28x28 image by computing the center of mass of the pixels, and translating the image so as to position this point at the center of the 28x28 field.  \n",
      "\n",
      "With some classification methods (particularly template-based methods, such as SVM and K-nearest neighbors), the error rate improves when the digits are centered by bounding box rather than center of mass. If you do this kind of pre-processing, you should report it in your publications. The MNIST database was constructed from NIST's NIST originally designated SD-3 as their training set and SD-1 as their test set. However, SD-3 is much cleaner and easier to recognize than SD-1. The reason for this can be found on the fact that SD-3 was collected among Census Bureau employees, while SD-1 was collected among high-school students. Drawing sensible conclusions from learning experiments requires that the result be independent of the choice of training set and test among the complete set of samples. Therefore it was necessary to build a new database by mixing NIST's datasets.  \n",
      "\n",
      "The MNIST training set is composed of 30,000 patterns from SD-3 and 30,000 patterns from SD-1. Our test set was composed of 5,000 patterns from SD-3 and 5,000 patterns from SD-1. The 60,000 pattern training set contained examples from approximately 250 writers. We made sure that the sets of writers of the training set and test set were disjoint. SD-1 contains 58,527 digit images written by 500 different writers. In contrast to SD-3, where blocks of data from each writer appeared in sequence, the data in SD-1 is scrambled. Writer identities for SD-1 is available and we used this information to unscramble the writers. We then split SD-1 in two: characters written by the first 250 writers went into our new training set. The remaining 250 writers were placed in our test set. Thus we had two sets with nearly 30,000 examples each. The new training set was completed with enough examples from SD-3, starting at pattern # 0, to make a full set of 60,000 training patterns. Similarly, the new test set was completed with SD-3 examples starting at pattern # 35,000 to make a full set with 60,000 test patterns. Only a subset of 10,000 test images (5,000 from SD-1 and 5,000 from SD-3) is available on this site. The full 60,000 sample training set is available.\n",
      "\n",
      "Downloaded from openml.org.\n"
     ]
    }
   ],
   "source": [
    "print(mnist.DESCR)"
   ]
  },
  {
   "cell_type": "code",
   "execution_count": 3,
   "id": "8ec74c89",
   "metadata": {},
   "outputs": [],
   "source": [
    "X, y = mnist.data, mnist.target"
   ]
  },
  {
   "cell_type": "code",
   "execution_count": 4,
   "id": "63404658",
   "metadata": {},
   "outputs": [
    {
     "data": {
      "text/plain": [
       "array([[0., 0., 0., ..., 0., 0., 0.],\n",
       "       [0., 0., 0., ..., 0., 0., 0.],\n",
       "       [0., 0., 0., ..., 0., 0., 0.],\n",
       "       ...,\n",
       "       [0., 0., 0., ..., 0., 0., 0.],\n",
       "       [0., 0., 0., ..., 0., 0., 0.],\n",
       "       [0., 0., 0., ..., 0., 0., 0.]])"
      ]
     },
     "execution_count": 4,
     "metadata": {},
     "output_type": "execute_result"
    }
   ],
   "source": [
    "X"
   ]
  },
  {
   "cell_type": "code",
   "execution_count": 5,
   "id": "7116e404",
   "metadata": {},
   "outputs": [
    {
     "data": {
      "text/plain": [
       "(70000, 784)"
      ]
     },
     "execution_count": 5,
     "metadata": {},
     "output_type": "execute_result"
    }
   ],
   "source": [
    "X.shape"
   ]
  },
  {
   "cell_type": "code",
   "execution_count": 6,
   "id": "251fd7d1",
   "metadata": {},
   "outputs": [
    {
     "data": {
      "text/plain": [
       "(70000,)"
      ]
     },
     "execution_count": 6,
     "metadata": {},
     "output_type": "execute_result"
    }
   ],
   "source": [
    "y.shape"
   ]
  },
  {
   "cell_type": "markdown",
   "id": "670653cc",
   "metadata": {},
   "source": [
    "Plotting the first training instance"
   ]
  },
  {
   "cell_type": "code",
   "execution_count": 7,
   "id": "d8b93cea",
   "metadata": {},
   "outputs": [
    {
     "data": {
      "image/png": "[encoded data removed]",
      "text/plain": [
       "<Figure size 640x480 with 1 Axes>"
      ]
     },
     "metadata": {},
     "output_type": "display_data"
    }
   ],
   "source": [
    "import matplotlib.pyplot as plt\n",
    "\n",
    "def plot_digit(image_data):\n",
    "    image = image_data.reshape(28, 28)\n",
    "    plt.imshow(image, cmap=\"binary\")\n",
    "    plt.axis(\"off\")\n",
    "\n",
    "some_digit = X[0]\n",
    "plot_digit(some_digit)\n",
    "plt.show()"
   ]
  },
  {
   "cell_type": "code",
   "execution_count": 8,
   "id": "9e919bdb",
   "metadata": {},
   "outputs": [],
   "source": [
    "X_train, X_val, X_test, y_train, y_val, y_test = X[:50000], X[50000:60000], X[60000:], y[:50000], y[50000:60000], y[60000:]"
   ]
  },
  {
   "cell_type": "markdown",
   "id": "e3dbfe8d",
   "metadata": {},
   "source": [
    "Training with GridSearchCV to determine hyperparameters. On a first iteration hyperparameters weights='distance' and 'n_neighbors' = 3 got the best score. Now training a second iteration to narrow down on the best 'n_neighbors' value (since on first iteration only values 1,3,5 and 7 were tested)."
   ]
  },
  {
   "cell_type": "code",
   "execution_count": 10,
   "id": "5f310732",
   "metadata": {},
   "outputs": [
    {
     "data": {
      "text/html": [
       "<style>#sk-container-id-1 {color: black;background-color: white;}#sk-container-id-1 pre{padding: 0;}#sk-container-id-1 div.sk-toggleable {background-color: white;}#sk-container-id-1 label.sk-toggleable__label {cursor: pointer;display: block;width: 100%;margin-bottom: 0;padding: 0.3em;box-sizing: border-box;text-align: center;}#sk-container-id-1 label.sk-toggleable__label-arrow:before {content: \"▸\";float: left;margin-right: 0.25em;color: #696969;}#sk-container-id-1 label.sk-toggleable__label-arrow:hover:before {color: black;}#sk-container-id-1 div.sk-estimator:hover label.sk-toggleable__label-arrow:before {color: black;}#sk-container-id-1 div.sk-toggleable__content {max-height: 0;max-width: 0;overflow: hidden;text-align: left;background-color: #f0f8ff;}#sk-container-id-1 div.sk-toggleable__content pre {margin: 0.2em;color: black;border-radius: 0.25em;background-color: #f0f8ff;}#sk-container-id-1 input.sk-toggleable__control:checked~div.sk-toggleable__content {max-height: 200px;max-width: 100%;overflow: auto;}#sk-container-id-1 input.sk-toggleable__control:checked~label.sk-toggleable__label-arrow:before {content: \"▾\";}#sk-container-id-1 div.sk-estimator input.sk-toggleable__control:checked~label.sk-toggleable__label {background-color: #d4ebff;}#sk-container-id-1 div.sk-label input.sk-toggleable__control:checked~label.sk-toggleable__label {background-color: #d4ebff;}#sk-container-id-1 input.sk-hidden--visually {border: 0;clip: rect(1px 1px 1px 1px);clip: rect(1px, 1px, 1px, 1px);height: 1px;margin: -1px;overflow: hidden;padding: 0;position: absolute;width: 1px;}#sk-container-id-1 div.sk-estimator {font-family: monospace;background-color: #f0f8ff;border: 1px dotted black;border-radius: 0.25em;box-sizing: border-box;margin-bottom: 0.5em;}#sk-container-id-1 div.sk-estimator:hover {background-color: #d4ebff;}#sk-container-id-1 div.sk-parallel-item::after {content: \"\";width: 100%;border-bottom: 1px solid gray;flex-grow: 1;}#sk-container-id-1 div.sk-label:hover label.sk-toggleable__label {background-color: #d4ebff;}#sk-container-id-1 div.sk-serial::before {content: \"\";position: absolute;border-left: 1px solid gray;box-sizing: border-box;top: 0;bottom: 0;left: 50%;z-index: 0;}#sk-container-id-1 div.sk-serial {display: flex;flex-direction: column;align-items: center;background-color: white;padding-right: 0.2em;padding-left: 0.2em;position: relative;}#sk-container-id-1 div.sk-item {position: relative;z-index: 1;}#sk-container-id-1 div.sk-parallel {display: flex;align-items: stretch;justify-content: center;background-color: white;position: relative;}#sk-container-id-1 div.sk-item::before, #sk-container-id-1 div.sk-parallel-item::before {content: \"\";position: absolute;border-left: 1px solid gray;box-sizing: border-box;top: 0;bottom: 0;left: 50%;z-index: -1;}#sk-container-id-1 div.sk-parallel-item {display: flex;flex-direction: column;z-index: 1;position: relative;background-color: white;}#sk-container-id-1 div.sk-parallel-item:first-child::after {align-self: flex-end;width: 50%;}#sk-container-id-1 div.sk-parallel-item:last-child::after {align-self: flex-start;width: 50%;}#sk-container-id-1 div.sk-parallel-item:only-child::after {width: 0;}#sk-container-id-1 div.sk-dashed-wrapped {border: 1px dashed gray;margin: 0 0.4em 0.5em 0.4em;box-sizing: border-box;padding-bottom: 0.4em;background-color: white;}#sk-container-id-1 div.sk-label label {font-family: monospace;font-weight: bold;display: inline-block;line-height: 1.2em;}#sk-container-id-1 div.sk-label-container {text-align: center;}#sk-container-id-1 div.sk-container {/* jupyter's `normalize.less` sets `[hidden] { display: none; }` but bootstrap.min.css set `[hidden] { display: none !important; }` so we also need the `!important` here to be able to override the default hidden behavior on the sphinx rendered scikit-learn.org. See: https://github.com/scikit-learn/scikit-learn/issues/21755 */display: inline-block !important;position: relative;}#sk-container-id-1 div.sk-text-repr-fallback {display: none;}</style><div id=\"sk-container-id-1\" class=\"sk-top-container\"><div class=\"sk-text-repr-fallback\"><pre>GridSearchCV(estimator=KNeighborsClassifier(weights=&#x27;distance&#x27;),\n",
       "             param_grid={&#x27;n_neighbors&#x27;: [2, 3, 4, 5]})</pre><b>In a Jupyter environment, please rerun this cell to show the HTML representation or trust the notebook. <br />On GitHub, the HTML representation is unable to render, please try loading this page with nbviewer.org.</b></div><div class=\"sk-container\" hidden><div class=\"sk-item sk-dashed-wrapped\"><div class=\"sk-label-container\"><div class=\"sk-label sk-toggleable\"><input class=\"sk-toggleable__control sk-hidden--visually\" id=\"sk-estimator-id-1\" type=\"checkbox\" ><label for=\"sk-estimator-id-1\" class=\"sk-toggleable__label sk-toggleable__label-arrow\">GridSearchCV</label><div class=\"sk-toggleable__content\"><pre>GridSearchCV(estimator=KNeighborsClassifier(weights=&#x27;distance&#x27;),\n",
       "             param_grid={&#x27;n_neighbors&#x27;: [2, 3, 4, 5]})</pre></div></div></div><div class=\"sk-parallel\"><div class=\"sk-parallel-item\"><div class=\"sk-item\"><div class=\"sk-label-container\"><div class=\"sk-label sk-toggleable\"><input class=\"sk-toggleable__control sk-hidden--visually\" id=\"sk-estimator-id-2\" type=\"checkbox\" ><label for=\"sk-estimator-id-2\" class=\"sk-toggleable__label sk-toggleable__label-arrow\">estimator: KNeighborsClassifier</label><div class=\"sk-toggleable__content\"><pre>KNeighborsClassifier(weights=&#x27;distance&#x27;)</pre></div></div></div><div class=\"sk-serial\"><div class=\"sk-item\"><div class=\"sk-estimator sk-toggleable\"><input class=\"sk-toggleable__control sk-hidden--visually\" id=\"sk-estimator-id-3\" type=\"checkbox\" ><label for=\"sk-estimator-id-3\" class=\"sk-toggleable__label sk-toggleable__label-arrow\">KNeighborsClassifier</label><div class=\"sk-toggleable__content\"><pre>KNeighborsClassifier(weights=&#x27;distance&#x27;)</pre></div></div></div></div></div></div></div></div></div></div>"
      ],
      "text/plain": [
       "GridSearchCV(estimator=KNeighborsClassifier(weights='distance'),\n",
       "             param_grid={'n_neighbors': [2, 3, 4, 5]})"
      ]
     },
     "execution_count": 10,
     "metadata": {},
     "output_type": "execute_result"
    }
   ],
   "source": [
    "from sklearn.neighbors import KNeighborsClassifier\n",
    "from sklearn.model_selection import GridSearchCV\n",
    "\n",
    "parameters = {'n_neighbors':[2, 3, 4, 5]}\n",
    "neigh = KNeighborsClassifier(weights='distance')\n",
    "clf = GridSearchCV(neigh, parameters)\n",
    "clf.fit(X_train, y_train)"
   ]
  },
  {
   "cell_type": "code",
   "execution_count": 11,
   "id": "14b1702b",
   "metadata": {},
   "outputs": [
    {
     "data": {
      "text/plain": [
       "{'n_neighbors': 4}"
      ]
     },
     "execution_count": 11,
     "metadata": {},
     "output_type": "execute_result"
    }
   ],
   "source": [
    "clf.best_params_"
   ]
  },
  {
   "cell_type": "code",
   "execution_count": 12,
   "id": "301d3c51",
   "metadata": {},
   "outputs": [
    {
     "data": {
      "text/html": [
       "<div>\n",
       "<style scoped>\n",
       "    .dataframe tbody tr th:only-of-type {\n",
       "        vertical-align: middle;\n",
       "    }\n",
       "\n",
       "    .dataframe tbody tr th {\n",
       "        vertical-align: top;\n",
       "    }\n",
       "\n",
       "    .dataframe thead th {\n",
       "        text-align: right;\n",
       "    }\n",
       "</style>\n",
       "<table border=\"1\" class=\"dataframe\">\n",
       "  <thead>\n",
       "    <tr style=\"text-align: right;\">\n",
       "      <th></th>\n",
       "      <th>mean_fit_time</th>\n",
       "      <th>std_fit_time</th>\n",
       "      <th>mean_score_time</th>\n",
       "      <th>std_score_time</th>\n",
       "      <th>param_n_neighbors</th>\n",
       "      <th>params</th>\n",
       "      <th>split0_test_score</th>\n",
       "      <th>split1_test_score</th>\n",
       "      <th>split2_test_score</th>\n",
       "      <th>split3_test_score</th>\n",
       "      <th>split4_test_score</th>\n",
       "      <th>mean_test_score</th>\n",
       "      <th>std_test_score</th>\n",
       "      <th>rank_test_score</th>\n",
       "    </tr>\n",
       "  </thead>\n",
       "  <tbody>\n",
       "    <tr>\n",
       "      <th>2</th>\n",
       "      <td>0.127310</td>\n",
       "      <td>0.000247</td>\n",
       "      <td>4.128424</td>\n",
       "      <td>0.028766</td>\n",
       "      <td>4</td>\n",
       "      <td>{'n_neighbors': 4}</td>\n",
       "      <td>0.9694</td>\n",
       "      <td>0.9715</td>\n",
       "      <td>0.9701</td>\n",
       "      <td>0.9690</td>\n",
       "      <td>0.9670</td>\n",
       "      <td>0.96940</td>\n",
       "      <td>0.001471</td>\n",
       "      <td>1</td>\n",
       "    </tr>\n",
       "    <tr>\n",
       "      <th>1</th>\n",
       "      <td>0.129080</td>\n",
       "      <td>0.002250</td>\n",
       "      <td>4.157275</td>\n",
       "      <td>0.031928</td>\n",
       "      <td>3</td>\n",
       "      <td>{'n_neighbors': 3}</td>\n",
       "      <td>0.9687</td>\n",
       "      <td>0.9702</td>\n",
       "      <td>0.9691</td>\n",
       "      <td>0.9693</td>\n",
       "      <td>0.9653</td>\n",
       "      <td>0.96852</td>\n",
       "      <td>0.001683</td>\n",
       "      <td>2</td>\n",
       "    </tr>\n",
       "    <tr>\n",
       "      <th>3</th>\n",
       "      <td>0.129044</td>\n",
       "      <td>0.001107</td>\n",
       "      <td>4.148109</td>\n",
       "      <td>0.027432</td>\n",
       "      <td>5</td>\n",
       "      <td>{'n_neighbors': 5}</td>\n",
       "      <td>0.9673</td>\n",
       "      <td>0.9709</td>\n",
       "      <td>0.9692</td>\n",
       "      <td>0.9689</td>\n",
       "      <td>0.9651</td>\n",
       "      <td>0.96828</td>\n",
       "      <td>0.001958</td>\n",
       "      <td>3</td>\n",
       "    </tr>\n",
       "    <tr>\n",
       "      <th>0</th>\n",
       "      <td>0.130983</td>\n",
       "      <td>0.004377</td>\n",
       "      <td>4.392079</td>\n",
       "      <td>0.401053</td>\n",
       "      <td>2</td>\n",
       "      <td>{'n_neighbors': 2}</td>\n",
       "      <td>0.9682</td>\n",
       "      <td>0.9696</td>\n",
       "      <td>0.9672</td>\n",
       "      <td>0.9673</td>\n",
       "      <td>0.9640</td>\n",
       "      <td>0.96726</td>\n",
       "      <td>0.001843</td>\n",
       "      <td>4</td>\n",
       "    </tr>\n",
       "  </tbody>\n",
       "</table>\n",
       "</div>"
      ],
      "text/plain": [
       "   mean_fit_time  std_fit_time  mean_score_time  std_score_time  \\\n",
       "2       0.127310      0.000247         4.128424        0.028766   \n",
       "1       0.129080      0.002250         4.157275        0.031928   \n",
       "3       0.129044      0.001107         4.148109        0.027432   \n",
       "0       0.130983      0.004377         4.392079        0.401053   \n",
       "\n",
       "  param_n_neighbors              params  split0_test_score  split1_test_score  \\\n",
       "2                 4  {'n_neighbors': 4}             0.9694             0.9715   \n",
       "1                 3  {'n_neighbors': 3}             0.9687             0.9702   \n",
       "3                 5  {'n_neighbors': 5}             0.9673             0.9709   \n",
       "0                 2  {'n_neighbors': 2}             0.9682             0.9696   \n",
       "\n",
       "   split2_test_score  split3_test_score  split4_test_score  mean_test_score  \\\n",
       "2             0.9701             0.9690             0.9670          0.96940   \n",
       "1             0.9691             0.9693             0.9653          0.96852   \n",
       "3             0.9692             0.9689             0.9651          0.96828   \n",
       "0             0.9672             0.9673             0.9640          0.96726   \n",
       "\n",
       "   std_test_score  rank_test_score  \n",
       "2        0.001471                1  \n",
       "1        0.001683                2  \n",
       "3        0.001958                3  \n",
       "0        0.001843                4  "
      ]
     },
     "execution_count": 12,
     "metadata": {},
     "output_type": "execute_result"
    }
   ],
   "source": [
    "import pandas as pd\n",
    "cv_res = pd.DataFrame(clf.cv_results_)\n",
    "cv_res.sort_values(by=\"mean_test_score\", ascending=False, inplace=True)\n",
    "cv_res.head()"
   ]
  },
  {
   "cell_type": "markdown",
   "id": "d8262f93",
   "metadata": {},
   "source": [
    "### Accuracy score on test set."
   ]
  },
  {
   "cell_type": "code",
   "execution_count": 13,
   "id": "8336ecc0",
   "metadata": {},
   "outputs": [
    {
     "data": {
      "text/plain": [
       "0.9741"
      ]
     },
     "execution_count": 13,
     "metadata": {},
     "output_type": "execute_result"
    }
   ],
   "source": [
    "clf.best_estimator_.score(X_val, y_val)"
   ]
  },
  {
   "cell_type": "markdown",
   "id": "9e630e16",
   "metadata": {},
   "source": [
    "## Data augmentation"
   ]
  },
  {
   "cell_type": "markdown",
   "id": "a346c2e4",
   "metadata": {},
   "source": [
    "We will thrive to improve accuracy by augmenting the training data. We will be performing pixel shifts and rotations on the training images to extend our training set and improve the generalization of the model on new unseen instances."
   ]
  },
  {
   "cell_type": "code",
   "execution_count": 9,
   "id": "d08cbecf",
   "metadata": {},
   "outputs": [],
   "source": [
    "from scipy.ndimage import shift, rotate\n",
    "import numpy as np\n",
    "\n",
    "X_train_augmented = [image for image in X_train]\n",
    "y_train_augmented = [label for label in y_train]\n",
    "\n",
    "def shift_image(image, dx, dy):\n",
    "    image = image.reshape((28, 28))\n",
    "    shifted_image = shift(image, [dy, dx], cval=0, mode=\"constant\")\n",
    "    return shifted_image.reshape([-1])\n",
    "\n",
    "#def rotate_image(image, rot_angle):\n",
    "#    image = image.reshape((28, 28))\n",
    "#    shifted_image = rotate(image, rot_angle, reshape=\"False\")\n",
    "#    return shifted_image.reshape([-1])\n",
    "\n",
    "for dx, dy in ((1,0), (-1,0), (0,1), (0,-1)):\n",
    "     for image, label in zip(X_train, y_train):\n",
    "             X_train_augmented.append(shift_image(image, dx, dy))\n",
    "             y_train_augmented.append(label)\n",
    "            \n",
    "#for angle in (90, 180, 270):\n",
    "#     for image, label in zip(X_train, y_train):\n",
    "#             X_train_augmented.append(rotate_image(image, angle))\n",
    "#             y_train_augmented.append(label)\n",
    "\n",
    "            "
   ]
  },
  {
   "cell_type": "code",
   "execution_count": 10,
   "id": "d772e50f",
   "metadata": {},
   "outputs": [
    {
     "data": {
      "text/plain": [
       "(250000, 784)"
      ]
     },
     "execution_count": 10,
     "metadata": {},
     "output_type": "execute_result"
    }
   ],
   "source": [
    "np.asarray(X_train_augmented).shape"
   ]
  },
  {
   "cell_type": "markdown",
   "id": "c80217ed",
   "metadata": {},
   "source": [
    "Shuffling augmented training set"
   ]
  },
  {
   "cell_type": "code",
   "execution_count": 11,
   "id": "198401af",
   "metadata": {},
   "outputs": [],
   "source": [
    "from sklearn.utils import shuffle\n",
    "X_train_augmented, y_train_augmented = shuffle(X_train_augmented, y_train_augmented, random_state=0)"
   ]
  },
  {
   "cell_type": "code",
   "execution_count": 17,
   "id": "80c835ab",
   "metadata": {},
   "outputs": [
    {
     "data": {
      "text/plain": [
       "0.9795"
      ]
     },
     "execution_count": 17,
     "metadata": {},
     "output_type": "execute_result"
    }
   ],
   "source": [
    "from sklearn.neighbors import KNeighborsClassifier\n",
    "\n",
    "neigh_clf = KNeighborsClassifier(weights='distance', n_neighbors=4)\n",
    "neigh_clf.fit(X_train_augmented, y_train_augmented)\n",
    "neigh_clf.score(X_val,y_val)"
   ]
  },
  {
   "cell_type": "markdown",
   "id": "543d13a2",
   "metadata": {},
   "source": [
    "Accuracy increased by 0.5% by augmenting the data."
   ]
  },
  {
   "cell_type": "markdown",
   "id": "b4c6d6d2",
   "metadata": {},
   "source": [
    "# Training and fine-tuning different models to build an ensemble"
   ]
  },
  {
   "cell_type": "markdown",
   "id": "dfd22b91",
   "metadata": {},
   "source": [
    "### Random Forest classifier"
   ]
  },
  {
   "cell_type": "code",
   "execution_count": 21,
   "id": "2f0c29ed",
   "metadata": {},
   "outputs": [
    {
     "name": "stderr",
     "output_type": "stream",
     "text": [
      "/home/igolas0/Programs/anaconda3/envs/homl3/lib/python3.10/site-packages/joblib/externals/loky/process_executor.py:702: UserWarning: A worker stopped while some jobs were given to the executor. This can be caused by a too short worker timeout or by a memory leak.\n",
      "  warnings.warn(\n"
     ]
    },
    {
     "data": {
      "text/html": [
       "<style>#sk-container-id-3 {color: black;background-color: white;}#sk-container-id-3 pre{padding: 0;}#sk-container-id-3 div.sk-toggleable {background-color: white;}#sk-container-id-3 label.sk-toggleable__label {cursor: pointer;display: block;width: 100%;margin-bottom: 0;padding: 0.3em;box-sizing: border-box;text-align: center;}#sk-container-id-3 label.sk-toggleable__label-arrow:before {content: \"▸\";float: left;margin-right: 0.25em;color: #696969;}#sk-container-id-3 label.sk-toggleable__label-arrow:hover:before {color: black;}#sk-container-id-3 div.sk-estimator:hover label.sk-toggleable__label-arrow:before {color: black;}#sk-container-id-3 div.sk-toggleable__content {max-height: 0;max-width: 0;overflow: hidden;text-align: left;background-color: #f0f8ff;}#sk-container-id-3 div.sk-toggleable__content pre {margin: 0.2em;color: black;border-radius: 0.25em;background-color: #f0f8ff;}#sk-container-id-3 input.sk-toggleable__control:checked~div.sk-toggleable__content {max-height: 200px;max-width: 100%;overflow: auto;}#sk-container-id-3 input.sk-toggleable__control:checked~label.sk-toggleable__label-arrow:before {content: \"▾\";}#sk-container-id-3 div.sk-estimator input.sk-toggleable__control:checked~label.sk-toggleable__label {background-color: #d4ebff;}#sk-container-id-3 div.sk-label input.sk-toggleable__control:checked~label.sk-toggleable__label {background-color: #d4ebff;}#sk-container-id-3 input.sk-hidden--visually {border: 0;clip: rect(1px 1px 1px 1px);clip: rect(1px, 1px, 1px, 1px);height: 1px;margin: -1px;overflow: hidden;padding: 0;position: absolute;width: 1px;}#sk-container-id-3 div.sk-estimator {font-family: monospace;background-color: #f0f8ff;border: 1px dotted black;border-radius: 0.25em;box-sizing: border-box;margin-bottom: 0.5em;}#sk-container-id-3 div.sk-estimator:hover {background-color: #d4ebff;}#sk-container-id-3 div.sk-parallel-item::after {content: \"\";width: 100%;border-bottom: 1px solid gray;flex-grow: 1;}#sk-container-id-3 div.sk-label:hover label.sk-toggleable__label {background-color: #d4ebff;}#sk-container-id-3 div.sk-serial::before {content: \"\";position: absolute;border-left: 1px solid gray;box-sizing: border-box;top: 0;bottom: 0;left: 50%;z-index: 0;}#sk-container-id-3 div.sk-serial {display: flex;flex-direction: column;align-items: center;background-color: white;padding-right: 0.2em;padding-left: 0.2em;position: relative;}#sk-container-id-3 div.sk-item {position: relative;z-index: 1;}#sk-container-id-3 div.sk-parallel {display: flex;align-items: stretch;justify-content: center;background-color: white;position: relative;}#sk-container-id-3 div.sk-item::before, #sk-container-id-3 div.sk-parallel-item::before {content: \"\";position: absolute;border-left: 1px solid gray;box-sizing: border-box;top: 0;bottom: 0;left: 50%;z-index: -1;}#sk-container-id-3 div.sk-parallel-item {display: flex;flex-direction: column;z-index: 1;position: relative;background-color: white;}#sk-container-id-3 div.sk-parallel-item:first-child::after {align-self: flex-end;width: 50%;}#sk-container-id-3 div.sk-parallel-item:last-child::after {align-self: flex-start;width: 50%;}#sk-container-id-3 div.sk-parallel-item:only-child::after {width: 0;}#sk-container-id-3 div.sk-dashed-wrapped {border: 1px dashed gray;margin: 0 0.4em 0.5em 0.4em;box-sizing: border-box;padding-bottom: 0.4em;background-color: white;}#sk-container-id-3 div.sk-label label {font-family: monospace;font-weight: bold;display: inline-block;line-height: 1.2em;}#sk-container-id-3 div.sk-label-container {text-align: center;}#sk-container-id-3 div.sk-container {/* jupyter's `normalize.less` sets `[hidden] { display: none; }` but bootstrap.min.css set `[hidden] { display: none !important; }` so we also need the `!important` here to be able to override the default hidden behavior on the sphinx rendered scikit-learn.org. See: https://github.com/scikit-learn/scikit-learn/issues/21755 */display: inline-block !important;position: relative;}#sk-container-id-3 div.sk-text-repr-fallback {display: none;}</style><div id=\"sk-container-id-3\" class=\"sk-top-container\"><div class=\"sk-text-repr-fallback\"><pre>RandomizedSearchCV(cv=5,\n",
       "                   estimator=Pipeline(steps=[(&#x27;scaler&#x27;, StandardScaler()),\n",
       "                                             (&#x27;random_forest&#x27;,\n",
       "                                              RandomForestClassifier(random_state=42))]),\n",
       "                   n_iter=50, n_jobs=-1,\n",
       "                   param_distributions={&#x27;random_forest__bootstrap&#x27;: [True,\n",
       "                                                                     False],\n",
       "                                        &#x27;random_forest__max_depth&#x27;: [5, 6, 8, 9,\n",
       "                                                                     11, 12, 14,\n",
       "                                                                     15, 17, 18,\n",
       "                                                                     20, None],\n",
       "                                        &#x27;random_forest__max_features&#x27;: [&#x27;log2&#x27;,\n",
       "                                                                        &#x27;sqrt&#x27;],\n",
       "                                        &#x27;random_forest__min_samples_leaf&#x27;: [1,\n",
       "                                                                            2,\n",
       "                                                                            3,\n",
       "                                                                            4,\n",
       "                                                                            5],\n",
       "                                        &#x27;random_forest__min_samples_split&#x27;: [10,\n",
       "                                                                             15,\n",
       "                                                                             20,\n",
       "                                                                             25,\n",
       "                                                                             30],\n",
       "                                        &#x27;random_forest__n_estimators&#x27;: [1000,\n",
       "                                                                        1222,\n",
       "                                                                        1444,\n",
       "                                                                        1666,\n",
       "                                                                        1888,\n",
       "                                                                        2111,\n",
       "                                                                        2333,\n",
       "                                                                        2555,\n",
       "                                                                        2777,\n",
       "                                                                        3000]},\n",
       "                   random_state=42, scoring=&#x27;accuracy&#x27;)</pre><b>In a Jupyter environment, please rerun this cell to show the HTML representation or trust the notebook. <br />On GitHub, the HTML representation is unable to render, please try loading this page with nbviewer.org.</b></div><div class=\"sk-container\" hidden><div class=\"sk-item sk-dashed-wrapped\"><div class=\"sk-label-container\"><div class=\"sk-label sk-toggleable\"><input class=\"sk-toggleable__control sk-hidden--visually\" id=\"sk-estimator-id-8\" type=\"checkbox\" ><label for=\"sk-estimator-id-8\" class=\"sk-toggleable__label sk-toggleable__label-arrow\">RandomizedSearchCV</label><div class=\"sk-toggleable__content\"><pre>RandomizedSearchCV(cv=5,\n",
       "                   estimator=Pipeline(steps=[(&#x27;scaler&#x27;, StandardScaler()),\n",
       "                                             (&#x27;random_forest&#x27;,\n",
       "                                              RandomForestClassifier(random_state=42))]),\n",
       "                   n_iter=50, n_jobs=-1,\n",
       "                   param_distributions={&#x27;random_forest__bootstrap&#x27;: [True,\n",
       "                                                                     False],\n",
       "                                        &#x27;random_forest__max_depth&#x27;: [5, 6, 8, 9,\n",
       "                                                                     11, 12, 14,\n",
       "                                                                     15, 17, 18,\n",
       "                                                                     20, None],\n",
       "                                        &#x27;random_forest__max_features&#x27;: [&#x27;log2&#x27;,\n",
       "                                                                        &#x27;sqrt&#x27;],\n",
       "                                        &#x27;random_forest__min_samples_leaf&#x27;: [1,\n",
       "                                                                            2,\n",
       "                                                                            3,\n",
       "                                                                            4,\n",
       "                                                                            5],\n",
       "                                        &#x27;random_forest__min_samples_split&#x27;: [10,\n",
       "                                                                             15,\n",
       "                                                                             20,\n",
       "                                                                             25,\n",
       "                                                                             30],\n",
       "                                        &#x27;random_forest__n_estimators&#x27;: [1000,\n",
       "                                                                        1222,\n",
       "                                                                        1444,\n",
       "                                                                        1666,\n",
       "                                                                        1888,\n",
       "                                                                        2111,\n",
       "                                                                        2333,\n",
       "                                                                        2555,\n",
       "                                                                        2777,\n",
       "                                                                        3000]},\n",
       "                   random_state=42, scoring=&#x27;accuracy&#x27;)</pre></div></div></div><div class=\"sk-parallel\"><div class=\"sk-parallel-item\"><div class=\"sk-item\"><div class=\"sk-label-container\"><div class=\"sk-label sk-toggleable\"><input class=\"sk-toggleable__control sk-hidden--visually\" id=\"sk-estimator-id-9\" type=\"checkbox\" ><label for=\"sk-estimator-id-9\" class=\"sk-toggleable__label sk-toggleable__label-arrow\">estimator: Pipeline</label><div class=\"sk-toggleable__content\"><pre>Pipeline(steps=[(&#x27;scaler&#x27;, StandardScaler()),\n",
       "                (&#x27;random_forest&#x27;, RandomForestClassifier(random_state=42))])</pre></div></div></div><div class=\"sk-serial\"><div class=\"sk-item\"><div class=\"sk-serial\"><div class=\"sk-item\"><div class=\"sk-estimator sk-toggleable\"><input class=\"sk-toggleable__control sk-hidden--visually\" id=\"sk-estimator-id-10\" type=\"checkbox\" ><label for=\"sk-estimator-id-10\" class=\"sk-toggleable__label sk-toggleable__label-arrow\">StandardScaler</label><div class=\"sk-toggleable__content\"><pre>StandardScaler()</pre></div></div></div><div class=\"sk-item\"><div class=\"sk-estimator sk-toggleable\"><input class=\"sk-toggleable__control sk-hidden--visually\" id=\"sk-estimator-id-11\" type=\"checkbox\" ><label for=\"sk-estimator-id-11\" class=\"sk-toggleable__label sk-toggleable__label-arrow\">RandomForestClassifier</label><div class=\"sk-toggleable__content\"><pre>RandomForestClassifier(random_state=42)</pre></div></div></div></div></div></div></div></div></div></div></div></div>"
      ],
      "text/plain": [
       "RandomizedSearchCV(cv=5,\n",
       "                   estimator=Pipeline(steps=[('scaler', StandardScaler()),\n",
       "                                             ('random_forest',\n",
       "                                              RandomForestClassifier(random_state=42))]),\n",
       "                   n_iter=50, n_jobs=-1,\n",
       "                   param_distributions={'random_forest__bootstrap': [True,\n",
       "                                                                     False],\n",
       "                                        'random_forest__max_depth': [5, 6, 8, 9,\n",
       "                                                                     11, 12, 14,\n",
       "                                                                     15, 17, 18,\n",
       "                                                                     20, None],\n",
       "                                        'random_forest__max_features': ['log2',\n",
       "                                                                        'sqrt'],\n",
       "                                        'random_forest__min_samples_leaf': [1,\n",
       "                                                                            2,\n",
       "                                                                            3,\n",
       "                                                                            4,\n",
       "                                                                            5],\n",
       "                                        'random_forest__min_samples_split': [10,\n",
       "                                                                             15,\n",
       "                                                                             20,\n",
       "                                                                             25,\n",
       "                                                                             30],\n",
       "                                        'random_forest__n_estimators': [1000,\n",
       "                                                                        1222,\n",
       "                                                                        1444,\n",
       "                                                                        1666,\n",
       "                                                                        1888,\n",
       "                                                                        2111,\n",
       "                                                                        2333,\n",
       "                                                                        2555,\n",
       "                                                                        2777,\n",
       "                                                                        3000]},\n",
       "                   random_state=42, scoring='accuracy')"
      ]
     },
     "execution_count": 21,
     "metadata": {},
     "output_type": "execute_result"
    }
   ],
   "source": [
    "from sklearn.model_selection import RandomizedSearchCV\n",
    "from sklearn.ensemble import RandomForestClassifier\n",
    "from sklearn.preprocessing import StandardScaler\n",
    "from sklearn.pipeline import Pipeline\n",
    "\n",
    "# Define the hyperparameter space\n",
    "n_estimators = [int(x) for x in np.linspace(start = 1000, stop = 3000, num = 10)]\n",
    "max_features = ['log2', 'sqrt']\n",
    "max_depth = [int(x) for x in np.linspace(5, 20, num = 11)]\n",
    "max_depth.append(None)\n",
    "min_samples_split = [10, 15, 20, 25, 30]\n",
    "min_samples_leaf = [1, 2, 3, 4, 5]\n",
    "bootstrap = [True, False]\n",
    "\n",
    "random_grid = {\n",
    "    'random_forest__n_estimators': n_estimators,\n",
    "    'random_forest__max_features': max_features,\n",
    "    'random_forest__max_depth': max_depth,\n",
    "    'random_forest__min_samples_split': min_samples_split,\n",
    "    'random_forest__min_samples_leaf': min_samples_leaf,\n",
    "    'random_forest__bootstrap': bootstrap\n",
    "}\n",
    "\n",
    "\n",
    "# Instantiate the random forest classifier\n",
    "full_pipeline_forest = Pipeline([\n",
    "    (\"scaler\", StandardScaler()),\n",
    "    (\"random_forest\", RandomForestClassifier(random_state=42)),\n",
    "])\n",
    "\n",
    "rf_random = RandomizedSearchCV(\n",
    "    full_pipeline_forest, param_distributions=random_grid, n_iter=50, cv=5,\n",
    "    scoring='accuracy', random_state=42, n_jobs=-1, verbose=0)\n",
    "\n",
    "# Fit the model to the training data\n",
    "rf_random.fit(X_train_augmented[:5000], y_train_augmented[:5000])"
   ]
  },
  {
   "cell_type": "code",
   "execution_count": 22,
   "id": "86e98b13",
   "metadata": {},
   "outputs": [
    {
     "name": "stdout",
     "output_type": "stream",
     "text": [
      "{'random_forest__n_estimators': 1666, 'random_forest__min_samples_split': 15, 'random_forest__min_samples_leaf': 3, 'random_forest__max_features': 'sqrt', 'random_forest__max_depth': 20, 'random_forest__bootstrap': False}\n"
     ]
    }
   ],
   "source": [
    "# Print the best hyperparameters found\n",
    "print(rf_random.best_params_)"
   ]
  },
  {
   "cell_type": "code",
   "execution_count": 23,
   "id": "5eb08c89",
   "metadata": {},
   "outputs": [
    {
     "data": {
      "text/plain": [
       "0.9419"
      ]
     },
     "execution_count": 23,
     "metadata": {},
     "output_type": "execute_result"
    }
   ],
   "source": [
    "rf_random.best_estimator_.score(X_val, y_val)"
   ]
  },
  {
   "cell_type": "markdown",
   "id": "727d0eb1",
   "metadata": {},
   "source": [
    "### Extra-Trees classifier"
   ]
  },
  {
   "cell_type": "code",
   "execution_count": 24,
   "id": "f7896920",
   "metadata": {},
   "outputs": [
    {
     "name": "stderr",
     "output_type": "stream",
     "text": [
      "/home/igolas0/Programs/anaconda3/envs/homl3/lib/python3.10/site-packages/joblib/externals/loky/process_executor.py:702: UserWarning: A worker stopped while some jobs were given to the executor. This can be caused by a too short worker timeout or by a memory leak.\n",
      "  warnings.warn(\n"
     ]
    },
    {
     "data": {
      "text/html": [
       "<style>#sk-container-id-4 {color: black;background-color: white;}#sk-container-id-4 pre{padding: 0;}#sk-container-id-4 div.sk-toggleable {background-color: white;}#sk-container-id-4 label.sk-toggleable__label {cursor: pointer;display: block;width: 100%;margin-bottom: 0;padding: 0.3em;box-sizing: border-box;text-align: center;}#sk-container-id-4 label.sk-toggleable__label-arrow:before {content: \"▸\";float: left;margin-right: 0.25em;color: #696969;}#sk-container-id-4 label.sk-toggleable__label-arrow:hover:before {color: black;}#sk-container-id-4 div.sk-estimator:hover label.sk-toggleable__label-arrow:before {color: black;}#sk-container-id-4 div.sk-toggleable__content {max-height: 0;max-width: 0;overflow: hidden;text-align: left;background-color: #f0f8ff;}#sk-container-id-4 div.sk-toggleable__content pre {margin: 0.2em;color: black;border-radius: 0.25em;background-color: #f0f8ff;}#sk-container-id-4 input.sk-toggleable__control:checked~div.sk-toggleable__content {max-height: 200px;max-width: 100%;overflow: auto;}#sk-container-id-4 input.sk-toggleable__control:checked~label.sk-toggleable__label-arrow:before {content: \"▾\";}#sk-container-id-4 div.sk-estimator input.sk-toggleable__control:checked~label.sk-toggleable__label {background-color: #d4ebff;}#sk-container-id-4 div.sk-label input.sk-toggleable__control:checked~label.sk-toggleable__label {background-color: #d4ebff;}#sk-container-id-4 input.sk-hidden--visually {border: 0;clip: rect(1px 1px 1px 1px);clip: rect(1px, 1px, 1px, 1px);height: 1px;margin: -1px;overflow: hidden;padding: 0;position: absolute;width: 1px;}#sk-container-id-4 div.sk-estimator {font-family: monospace;background-color: #f0f8ff;border: 1px dotted black;border-radius: 0.25em;box-sizing: border-box;margin-bottom: 0.5em;}#sk-container-id-4 div.sk-estimator:hover {background-color: #d4ebff;}#sk-container-id-4 div.sk-parallel-item::after {content: \"\";width: 100%;border-bottom: 1px solid gray;flex-grow: 1;}#sk-container-id-4 div.sk-label:hover label.sk-toggleable__label {background-color: #d4ebff;}#sk-container-id-4 div.sk-serial::before {content: \"\";position: absolute;border-left: 1px solid gray;box-sizing: border-box;top: 0;bottom: 0;left: 50%;z-index: 0;}#sk-container-id-4 div.sk-serial {display: flex;flex-direction: column;align-items: center;background-color: white;padding-right: 0.2em;padding-left: 0.2em;position: relative;}#sk-container-id-4 div.sk-item {position: relative;z-index: 1;}#sk-container-id-4 div.sk-parallel {display: flex;align-items: stretch;justify-content: center;background-color: white;position: relative;}#sk-container-id-4 div.sk-item::before, #sk-container-id-4 div.sk-parallel-item::before {content: \"\";position: absolute;border-left: 1px solid gray;box-sizing: border-box;top: 0;bottom: 0;left: 50%;z-index: -1;}#sk-container-id-4 div.sk-parallel-item {display: flex;flex-direction: column;z-index: 1;position: relative;background-color: white;}#sk-container-id-4 div.sk-parallel-item:first-child::after {align-self: flex-end;width: 50%;}#sk-container-id-4 div.sk-parallel-item:last-child::after {align-self: flex-start;width: 50%;}#sk-container-id-4 div.sk-parallel-item:only-child::after {width: 0;}#sk-container-id-4 div.sk-dashed-wrapped {border: 1px dashed gray;margin: 0 0.4em 0.5em 0.4em;box-sizing: border-box;padding-bottom: 0.4em;background-color: white;}#sk-container-id-4 div.sk-label label {font-family: monospace;font-weight: bold;display: inline-block;line-height: 1.2em;}#sk-container-id-4 div.sk-label-container {text-align: center;}#sk-container-id-4 div.sk-container {/* jupyter's `normalize.less` sets `[hidden] { display: none; }` but bootstrap.min.css set `[hidden] { display: none !important; }` so we also need the `!important` here to be able to override the default hidden behavior on the sphinx rendered scikit-learn.org. See: https://github.com/scikit-learn/scikit-learn/issues/21755 */display: inline-block !important;position: relative;}#sk-container-id-4 div.sk-text-repr-fallback {display: none;}</style><div id=\"sk-container-id-4\" class=\"sk-top-container\"><div class=\"sk-text-repr-fallback\"><pre>RandomizedSearchCV(cv=5,\n",
       "                   estimator=Pipeline(steps=[(&#x27;scaler&#x27;, StandardScaler()),\n",
       "                                             (&#x27;extra_trees&#x27;,\n",
       "                                              ExtraTreesClassifier(random_state=42))]),\n",
       "                   n_iter=50, n_jobs=-1,\n",
       "                   param_distributions={&#x27;extra_trees__bootstrap&#x27;: [True, False],\n",
       "                                        &#x27;extra_trees__max_depth&#x27;: [5, 6, 8, 9,\n",
       "                                                                   11, 12, 14,\n",
       "                                                                   15, 17, 18,\n",
       "                                                                   20, None],\n",
       "                                        &#x27;extra_trees__max_features&#x27;: [&#x27;log2&#x27;,\n",
       "                                                                      &#x27;sqrt&#x27;],\n",
       "                                        &#x27;extra_trees__min_samples_leaf&#x27;: [1, 2,\n",
       "                                                                          3, 4,\n",
       "                                                                          5],\n",
       "                                        &#x27;extra_trees__min_samples_split&#x27;: [10,\n",
       "                                                                           15,\n",
       "                                                                           20,\n",
       "                                                                           25,\n",
       "                                                                           30],\n",
       "                                        &#x27;extra_trees__n_estimators&#x27;: [2000,\n",
       "                                                                      2222,\n",
       "                                                                      2444,\n",
       "                                                                      2666,\n",
       "                                                                      2888,\n",
       "                                                                      3111,\n",
       "                                                                      3333,\n",
       "                                                                      3555,\n",
       "                                                                      3777,\n",
       "                                                                      4000]},\n",
       "                   random_state=42, scoring=&#x27;accuracy&#x27;)</pre><b>In a Jupyter environment, please rerun this cell to show the HTML representation or trust the notebook. <br />On GitHub, the HTML representation is unable to render, please try loading this page with nbviewer.org.</b></div><div class=\"sk-container\" hidden><div class=\"sk-item sk-dashed-wrapped\"><div class=\"sk-label-container\"><div class=\"sk-label sk-toggleable\"><input class=\"sk-toggleable__control sk-hidden--visually\" id=\"sk-estimator-id-12\" type=\"checkbox\" ><label for=\"sk-estimator-id-12\" class=\"sk-toggleable__label sk-toggleable__label-arrow\">RandomizedSearchCV</label><div class=\"sk-toggleable__content\"><pre>RandomizedSearchCV(cv=5,\n",
       "                   estimator=Pipeline(steps=[(&#x27;scaler&#x27;, StandardScaler()),\n",
       "                                             (&#x27;extra_trees&#x27;,\n",
       "                                              ExtraTreesClassifier(random_state=42))]),\n",
       "                   n_iter=50, n_jobs=-1,\n",
       "                   param_distributions={&#x27;extra_trees__bootstrap&#x27;: [True, False],\n",
       "                                        &#x27;extra_trees__max_depth&#x27;: [5, 6, 8, 9,\n",
       "                                                                   11, 12, 14,\n",
       "                                                                   15, 17, 18,\n",
       "                                                                   20, None],\n",
       "                                        &#x27;extra_trees__max_features&#x27;: [&#x27;log2&#x27;,\n",
       "                                                                      &#x27;sqrt&#x27;],\n",
       "                                        &#x27;extra_trees__min_samples_leaf&#x27;: [1, 2,\n",
       "                                                                          3, 4,\n",
       "                                                                          5],\n",
       "                                        &#x27;extra_trees__min_samples_split&#x27;: [10,\n",
       "                                                                           15,\n",
       "                                                                           20,\n",
       "                                                                           25,\n",
       "                                                                           30],\n",
       "                                        &#x27;extra_trees__n_estimators&#x27;: [2000,\n",
       "                                                                      2222,\n",
       "                                                                      2444,\n",
       "                                                                      2666,\n",
       "                                                                      2888,\n",
       "                                                                      3111,\n",
       "                                                                      3333,\n",
       "                                                                      3555,\n",
       "                                                                      3777,\n",
       "                                                                      4000]},\n",
       "                   random_state=42, scoring=&#x27;accuracy&#x27;)</pre></div></div></div><div class=\"sk-parallel\"><div class=\"sk-parallel-item\"><div class=\"sk-item\"><div class=\"sk-label-container\"><div class=\"sk-label sk-toggleable\"><input class=\"sk-toggleable__control sk-hidden--visually\" id=\"sk-estimator-id-13\" type=\"checkbox\" ><label for=\"sk-estimator-id-13\" class=\"sk-toggleable__label sk-toggleable__label-arrow\">estimator: Pipeline</label><div class=\"sk-toggleable__content\"><pre>Pipeline(steps=[(&#x27;scaler&#x27;, StandardScaler()),\n",
       "                (&#x27;extra_trees&#x27;, ExtraTreesClassifier(random_state=42))])</pre></div></div></div><div class=\"sk-serial\"><div class=\"sk-item\"><div class=\"sk-serial\"><div class=\"sk-item\"><div class=\"sk-estimator sk-toggleable\"><input class=\"sk-toggleable__control sk-hidden--visually\" id=\"sk-estimator-id-14\" type=\"checkbox\" ><label for=\"sk-estimator-id-14\" class=\"sk-toggleable__label sk-toggleable__label-arrow\">StandardScaler</label><div class=\"sk-toggleable__content\"><pre>StandardScaler()</pre></div></div></div><div class=\"sk-item\"><div class=\"sk-estimator sk-toggleable\"><input class=\"sk-toggleable__control sk-hidden--visually\" id=\"sk-estimator-id-15\" type=\"checkbox\" ><label for=\"sk-estimator-id-15\" class=\"sk-toggleable__label sk-toggleable__label-arrow\">ExtraTreesClassifier</label><div class=\"sk-toggleable__content\"><pre>ExtraTreesClassifier(random_state=42)</pre></div></div></div></div></div></div></div></div></div></div></div></div>"
      ],
      "text/plain": [
       "RandomizedSearchCV(cv=5,\n",
       "                   estimator=Pipeline(steps=[('scaler', StandardScaler()),\n",
       "                                             ('extra_trees',\n",
       "                                              ExtraTreesClassifier(random_state=42))]),\n",
       "                   n_iter=50, n_jobs=-1,\n",
       "                   param_distributions={'extra_trees__bootstrap': [True, False],\n",
       "                                        'extra_trees__max_depth': [5, 6, 8, 9,\n",
       "                                                                   11, 12, 14,\n",
       "                                                                   15, 17, 18,\n",
       "                                                                   20, None],\n",
       "                                        'extra_trees__max_features': ['log2',\n",
       "                                                                      'sqrt'],\n",
       "                                        'extra_trees__min_samples_leaf': [1, 2,\n",
       "                                                                          3, 4,\n",
       "                                                                          5],\n",
       "                                        'extra_trees__min_samples_split': [10,\n",
       "                                                                           15,\n",
       "                                                                           20,\n",
       "                                                                           25,\n",
       "                                                                           30],\n",
       "                                        'extra_trees__n_estimators': [2000,\n",
       "                                                                      2222,\n",
       "                                                                      2444,\n",
       "                                                                      2666,\n",
       "                                                                      2888,\n",
       "                                                                      3111,\n",
       "                                                                      3333,\n",
       "                                                                      3555,\n",
       "                                                                      3777,\n",
       "                                                                      4000]},\n",
       "                   random_state=42, scoring='accuracy')"
      ]
     },
     "execution_count": 24,
     "metadata": {},
     "output_type": "execute_result"
    }
   ],
   "source": [
    "from sklearn.ensemble import ExtraTreesClassifier\n",
    "\n",
    "# Define the hyperparameter space\n",
    "n_estimators = [int(x) for x in np.linspace(start = 2000, stop = 4000, num = 10)]\n",
    "max_features = ['log2', 'sqrt']\n",
    "max_depth = [int(x) for x in np.linspace(5, 20, num = 11)]\n",
    "max_depth.append(None)\n",
    "min_samples_split = [10, 15, 20, 25, 30]\n",
    "min_samples_leaf = [1, 2, 3, 4, 5]\n",
    "bootstrap = [True, False]\n",
    "\n",
    "random_grid = {\n",
    "    'extra_trees__n_estimators': n_estimators,\n",
    "    'extra_trees__max_features': max_features,\n",
    "    'extra_trees__max_depth': max_depth,\n",
    "    'extra_trees__min_samples_split': min_samples_split,\n",
    "    'extra_trees__min_samples_leaf': min_samples_leaf,\n",
    "    'extra_trees__bootstrap': bootstrap\n",
    "}\n",
    "\n",
    "\n",
    "# Instantiate the random forest classifier\n",
    "full_pipeline_extratrees = Pipeline([\n",
    "    (\"scaler\", StandardScaler()),\n",
    "    (\"extra_trees\", ExtraTreesClassifier(random_state=42)),\n",
    "])\n",
    "\n",
    "et_random = RandomizedSearchCV(\n",
    "    full_pipeline_extratrees, param_distributions=random_grid, n_iter=50, cv=5,\n",
    "    scoring='accuracy', random_state=42, n_jobs=-1, verbose=0)\n",
    "\n",
    "# Fit the model to the training data\n",
    "et_random.fit(X_train_augmented[:5000], y_train_augmented[:5000])"
   ]
  },
  {
   "cell_type": "code",
   "execution_count": 25,
   "id": "7cd51611",
   "metadata": {},
   "outputs": [
    {
     "name": "stdout",
     "output_type": "stream",
     "text": [
      "{'extra_trees__n_estimators': 2888, 'extra_trees__min_samples_split': 20, 'extra_trees__min_samples_leaf': 1, 'extra_trees__max_features': 'sqrt', 'extra_trees__max_depth': 14, 'extra_trees__bootstrap': False}\n"
     ]
    }
   ],
   "source": [
    "# Print the best hyperparameters found\n",
    "print(et_random.best_params_)"
   ]
  },
  {
   "cell_type": "code",
   "execution_count": 26,
   "id": "c91b31c2",
   "metadata": {},
   "outputs": [
    {
     "data": {
      "text/plain": [
       "0.9373"
      ]
     },
     "execution_count": 26,
     "metadata": {},
     "output_type": "execute_result"
    }
   ],
   "source": [
    "et_random.best_estimator_.score(X_val, y_val)"
   ]
  },
  {
   "cell_type": "markdown",
   "id": "6ef8003a",
   "metadata": {},
   "source": [
    "### SVM Classifier"
   ]
  },
  {
   "cell_type": "code",
   "execution_count": 28,
   "id": "6a414000",
   "metadata": {},
   "outputs": [
    {
     "data": {
      "text/html": [
       "<style>#sk-container-id-5 {color: black;background-color: white;}#sk-container-id-5 pre{padding: 0;}#sk-container-id-5 div.sk-toggleable {background-color: white;}#sk-container-id-5 label.sk-toggleable__label {cursor: pointer;display: block;width: 100%;margin-bottom: 0;padding: 0.3em;box-sizing: border-box;text-align: center;}#sk-container-id-5 label.sk-toggleable__label-arrow:before {content: \"▸\";float: left;margin-right: 0.25em;color: #696969;}#sk-container-id-5 label.sk-toggleable__label-arrow:hover:before {color: black;}#sk-container-id-5 div.sk-estimator:hover label.sk-toggleable__label-arrow:before {color: black;}#sk-container-id-5 div.sk-toggleable__content {max-height: 0;max-width: 0;overflow: hidden;text-align: left;background-color: #f0f8ff;}#sk-container-id-5 div.sk-toggleable__content pre {margin: 0.2em;color: black;border-radius: 0.25em;background-color: #f0f8ff;}#sk-container-id-5 input.sk-toggleable__control:checked~div.sk-toggleable__content {max-height: 200px;max-width: 100%;overflow: auto;}#sk-container-id-5 input.sk-toggleable__control:checked~label.sk-toggleable__label-arrow:before {content: \"▾\";}#sk-container-id-5 div.sk-estimator input.sk-toggleable__control:checked~label.sk-toggleable__label {background-color: #d4ebff;}#sk-container-id-5 div.sk-label input.sk-toggleable__control:checked~label.sk-toggleable__label {background-color: #d4ebff;}#sk-container-id-5 input.sk-hidden--visually {border: 0;clip: rect(1px 1px 1px 1px);clip: rect(1px, 1px, 1px, 1px);height: 1px;margin: -1px;overflow: hidden;padding: 0;position: absolute;width: 1px;}#sk-container-id-5 div.sk-estimator {font-family: monospace;background-color: #f0f8ff;border: 1px dotted black;border-radius: 0.25em;box-sizing: border-box;margin-bottom: 0.5em;}#sk-container-id-5 div.sk-estimator:hover {background-color: #d4ebff;}#sk-container-id-5 div.sk-parallel-item::after {content: \"\";width: 100%;border-bottom: 1px solid gray;flex-grow: 1;}#sk-container-id-5 div.sk-label:hover label.sk-toggleable__label {background-color: #d4ebff;}#sk-container-id-5 div.sk-serial::before {content: \"\";position: absolute;border-left: 1px solid gray;box-sizing: border-box;top: 0;bottom: 0;left: 50%;z-index: 0;}#sk-container-id-5 div.sk-serial {display: flex;flex-direction: column;align-items: center;background-color: white;padding-right: 0.2em;padding-left: 0.2em;position: relative;}#sk-container-id-5 div.sk-item {position: relative;z-index: 1;}#sk-container-id-5 div.sk-parallel {display: flex;align-items: stretch;justify-content: center;background-color: white;position: relative;}#sk-container-id-5 div.sk-item::before, #sk-container-id-5 div.sk-parallel-item::before {content: \"\";position: absolute;border-left: 1px solid gray;box-sizing: border-box;top: 0;bottom: 0;left: 50%;z-index: -1;}#sk-container-id-5 div.sk-parallel-item {display: flex;flex-direction: column;z-index: 1;position: relative;background-color: white;}#sk-container-id-5 div.sk-parallel-item:first-child::after {align-self: flex-end;width: 50%;}#sk-container-id-5 div.sk-parallel-item:last-child::after {align-self: flex-start;width: 50%;}#sk-container-id-5 div.sk-parallel-item:only-child::after {width: 0;}#sk-container-id-5 div.sk-dashed-wrapped {border: 1px dashed gray;margin: 0 0.4em 0.5em 0.4em;box-sizing: border-box;padding-bottom: 0.4em;background-color: white;}#sk-container-id-5 div.sk-label label {font-family: monospace;font-weight: bold;display: inline-block;line-height: 1.2em;}#sk-container-id-5 div.sk-label-container {text-align: center;}#sk-container-id-5 div.sk-container {/* jupyter's `normalize.less` sets `[hidden] { display: none; }` but bootstrap.min.css set `[hidden] { display: none !important; }` so we also need the `!important` here to be able to override the default hidden behavior on the sphinx rendered scikit-learn.org. See: https://github.com/scikit-learn/scikit-learn/issues/21755 */display: inline-block !important;position: relative;}#sk-container-id-5 div.sk-text-repr-fallback {display: none;}</style><div id=\"sk-container-id-5\" class=\"sk-top-container\"><div class=\"sk-text-repr-fallback\"><pre>RandomizedSearchCV(cv=5,\n",
       "                   estimator=Pipeline(steps=[(&#x27;scaler&#x27;, StandardScaler()),\n",
       "                                             (&#x27;svc&#x27;, SVC(random_state=42))]),\n",
       "                   n_iter=50, n_jobs=-1,\n",
       "                   param_distributions={&#x27;svc__C&#x27;: [1, 112, 223, 334, 445, 556,\n",
       "                                                   667, 778, 889, 1000],\n",
       "                                        &#x27;svc__gamma&#x27;: [&#x27;scale&#x27;, &#x27;auto&#x27;],\n",
       "                                        &#x27;svc__kernel&#x27;: [&#x27;linear&#x27;, &#x27;poly&#x27;, &#x27;rbf&#x27;,\n",
       "                                                        &#x27;sigmoid&#x27;]},\n",
       "                   random_state=42, scoring=&#x27;accuracy&#x27;)</pre><b>In a Jupyter environment, please rerun this cell to show the HTML representation or trust the notebook. <br />On GitHub, the HTML representation is unable to render, please try loading this page with nbviewer.org.</b></div><div class=\"sk-container\" hidden><div class=\"sk-item sk-dashed-wrapped\"><div class=\"sk-label-container\"><div class=\"sk-label sk-toggleable\"><input class=\"sk-toggleable__control sk-hidden--visually\" id=\"sk-estimator-id-16\" type=\"checkbox\" ><label for=\"sk-estimator-id-16\" class=\"sk-toggleable__label sk-toggleable__label-arrow\">RandomizedSearchCV</label><div class=\"sk-toggleable__content\"><pre>RandomizedSearchCV(cv=5,\n",
       "                   estimator=Pipeline(steps=[(&#x27;scaler&#x27;, StandardScaler()),\n",
       "                                             (&#x27;svc&#x27;, SVC(random_state=42))]),\n",
       "                   n_iter=50, n_jobs=-1,\n",
       "                   param_distributions={&#x27;svc__C&#x27;: [1, 112, 223, 334, 445, 556,\n",
       "                                                   667, 778, 889, 1000],\n",
       "                                        &#x27;svc__gamma&#x27;: [&#x27;scale&#x27;, &#x27;auto&#x27;],\n",
       "                                        &#x27;svc__kernel&#x27;: [&#x27;linear&#x27;, &#x27;poly&#x27;, &#x27;rbf&#x27;,\n",
       "                                                        &#x27;sigmoid&#x27;]},\n",
       "                   random_state=42, scoring=&#x27;accuracy&#x27;)</pre></div></div></div><div class=\"sk-parallel\"><div class=\"sk-parallel-item\"><div class=\"sk-item\"><div class=\"sk-label-container\"><div class=\"sk-label sk-toggleable\"><input class=\"sk-toggleable__control sk-hidden--visually\" id=\"sk-estimator-id-17\" type=\"checkbox\" ><label for=\"sk-estimator-id-17\" class=\"sk-toggleable__label sk-toggleable__label-arrow\">estimator: Pipeline</label><div class=\"sk-toggleable__content\"><pre>Pipeline(steps=[(&#x27;scaler&#x27;, StandardScaler()), (&#x27;svc&#x27;, SVC(random_state=42))])</pre></div></div></div><div class=\"sk-serial\"><div class=\"sk-item\"><div class=\"sk-serial\"><div class=\"sk-item\"><div class=\"sk-estimator sk-toggleable\"><input class=\"sk-toggleable__control sk-hidden--visually\" id=\"sk-estimator-id-18\" type=\"checkbox\" ><label for=\"sk-estimator-id-18\" class=\"sk-toggleable__label sk-toggleable__label-arrow\">StandardScaler</label><div class=\"sk-toggleable__content\"><pre>StandardScaler()</pre></div></div></div><div class=\"sk-item\"><div class=\"sk-estimator sk-toggleable\"><input class=\"sk-toggleable__control sk-hidden--visually\" id=\"sk-estimator-id-19\" type=\"checkbox\" ><label for=\"sk-estimator-id-19\" class=\"sk-toggleable__label sk-toggleable__label-arrow\">SVC</label><div class=\"sk-toggleable__content\"><pre>SVC(random_state=42)</pre></div></div></div></div></div></div></div></div></div></div></div></div>"
      ],
      "text/plain": [
       "RandomizedSearchCV(cv=5,\n",
       "                   estimator=Pipeline(steps=[('scaler', StandardScaler()),\n",
       "                                             ('svc', SVC(random_state=42))]),\n",
       "                   n_iter=50, n_jobs=-1,\n",
       "                   param_distributions={'svc__C': [1, 112, 223, 334, 445, 556,\n",
       "                                                   667, 778, 889, 1000],\n",
       "                                        'svc__gamma': ['scale', 'auto'],\n",
       "                                        'svc__kernel': ['linear', 'poly', 'rbf',\n",
       "                                                        'sigmoid']},\n",
       "                   random_state=42, scoring='accuracy')"
      ]
     },
     "execution_count": 28,
     "metadata": {},
     "output_type": "execute_result"
    }
   ],
   "source": [
    "from sklearn.svm import SVC\n",
    "\n",
    "# Define the hyperparameter space\n",
    "C = [int(x) for x in np.linspace(start = 1, stop = 1000, num = 10)]\n",
    "kernel = ['linear', 'poly', 'rbf', 'sigmoid']\n",
    "gamma = ['scale', 'auto']\n",
    "\n",
    "random_grid = {\n",
    "    'svc__C': C,\n",
    "    'svc__kernel': kernel,\n",
    "    'svc__gamma': gamma\n",
    "}\n",
    "\n",
    "\n",
    "# Instantiate the random forest classifier\n",
    "full_pipeline_svc = Pipeline([\n",
    "    (\"scaler\", StandardScaler()),\n",
    "    (\"svc\", SVC(random_state=42)),\n",
    "])\n",
    "\n",
    "svc_random = RandomizedSearchCV(\n",
    "    full_pipeline_svc, param_distributions=random_grid, n_iter=50, cv=5,\n",
    "    scoring='accuracy', random_state=42, n_jobs=-1, verbose=0)\n",
    "\n",
    "# Fit the model to the training data\n",
    "svc_random.fit(X_train_augmented[:5000], y_train_augmented[:5000])"
   ]
  },
  {
   "cell_type": "code",
   "execution_count": 29,
   "id": "efaf5905",
   "metadata": {},
   "outputs": [
    {
     "name": "stdout",
     "output_type": "stream",
     "text": [
      "{'svc__kernel': 'poly', 'svc__gamma': 'scale', 'svc__C': 667}\n"
     ]
    }
   ],
   "source": [
    "# Print the best hyperparameters found\n",
    "print(svc_random.best_params_)"
   ]
  },
  {
   "cell_type": "code",
   "execution_count": 30,
   "id": "f2b163ba",
   "metadata": {},
   "outputs": [
    {
     "data": {
      "text/plain": [
       "0.9423"
      ]
     },
     "execution_count": 30,
     "metadata": {},
     "output_type": "execute_result"
    }
   ],
   "source": [
    "svc_random.best_estimator_.score(X_val, y_val)"
   ]
  },
  {
   "cell_type": "markdown",
   "id": "7043fbb1",
   "metadata": {},
   "source": [
    "# Ensemble learning"
   ]
  },
  {
   "cell_type": "markdown",
   "id": "0f1fd9ed",
   "metadata": {},
   "source": [
    "### Voting Classifier"
   ]
  },
  {
   "cell_type": "code",
   "execution_count": 14,
   "id": "f7253e69",
   "metadata": {},
   "outputs": [
    {
     "name": "stdout",
     "output_type": "stream",
     "text": [
      "Accuracy score of the ensemble model: 0.996\n"
     ]
    }
   ],
   "source": [
    "from sklearn.ensemble import VotingClassifier\n",
    "from sklearn.pipeline import Pipeline\n",
    "from sklearn.ensemble import ExtraTreesClassifier\n",
    "from sklearn.neighbors import KNeighborsClassifier\n",
    "from sklearn.svm import SVC\n",
    "from sklearn.ensemble import RandomForestClassifier\n",
    "\n",
    "\n",
    "# Instantiate multiple classifiers with previously optimized hyperparameters and preprocessing pipeline\n",
    "pipe_rf = Pipeline([\n",
    "    #(\"scaler\", StandardScaler()),\n",
    "    (\"random_forest\", RandomForestClassifier(random_state=42, n_estimators = 1666, \n",
    "                                        min_samples_split = 15, bootstrap = False,\n",
    "                                        min_samples_leaf = 3, max_features = 'sqrt', max_depth = 20)),\n",
    "])\n",
    "\n",
    "pipe_et = Pipeline([\n",
    "    #(\"scaler\", StandardScaler()),\n",
    "    (\"extra_trees\", ExtraTreesClassifier(random_state=42, n_estimators = 2888, \n",
    "                                        min_samples_split = 20, bootstrap = False,\n",
    "                                        min_samples_leaf = 1, max_features = 'sqrt', max_depth = 14)),\n",
    "])\n",
    "\n",
    "pipe_svc = Pipeline([\n",
    "    #(\"scaler\", StandardScaler()),\n",
    "    (\"svc_clf\", SVC(random_state=42, kernel='poly', gamma = 'scale', C = 667, probability=True)),\n",
    "])\n",
    "\n",
    "pipe_kneigh = Pipeline([\n",
    "    #(\"scaler\", StandardScaler()),\n",
    "    (\"kneigh_clf\", KNeighborsClassifier(weights = 'distance', n_neighbors = 4)),\n",
    "])\n",
    "\n",
    "# Define a voting classifier that combines the predictions of the four models\n",
    "voting = VotingClassifier(\n",
    "    estimators=[\n",
    "                ('rf', pipe_rf),\n",
    "                ('et', pipe_et),\n",
    "                ('svc', pipe_svc)\n",
    "                #('kneigh', pipe_kneigh)\n",
    "    ], \n",
    "    voting='hard'\n",
    ")\n",
    "\n",
    "# Fit the voting classifier to the training data\n",
    "voting.fit(X_train_augmented, y_train_augmented)\n",
    "\n",
    "# Evaluate the performance on the training set\n",
    "accuracy = voting.score(X_train_augmented, y_train_augmented)\n",
    "print(\"Accuracy score of the ensemble model: {:.3f}\".format(accuracy))"
   ]
  },
  {
   "cell_type": "code",
   "execution_count": 15,
   "id": "fb7e8927",
   "metadata": {},
   "outputs": [
    {
     "name": "stdout",
     "output_type": "stream",
     "text": [
      "Accuracy score of the ensemble model on validation set: 0.979\n"
     ]
    }
   ],
   "source": [
    "# Evaluate the performance on the validation set\n",
    "accuracy = voting.score(X_val, y_val)\n",
    "print(\"Accuracy score of the ensemble model on validation set: {:.3f}\".format(accuracy))"
   ]
  },
  {
   "cell_type": "code",
   "execution_count": 16,
   "id": "68dd68b0",
   "metadata": {},
   "outputs": [
    {
     "name": "stdout",
     "output_type": "stream",
     "text": [
      "Accuracy score of the ensemble model on the test set: 0.979\n"
     ]
    }
   ],
   "source": [
    "# Evaluate the performance on the test set\n",
    "accuracy = voting.score(X_val, y_val)\n",
    "print(\"Accuracy score of the ensemble model on the test set: {:.3f}\".format(accuracy))"
   ]
  },
  {
   "cell_type": "markdown",
   "id": "ba4e2f1d",
   "metadata": {},
   "source": [
    "### Stacking classifier "
   ]
  },
  {
   "cell_type": "markdown",
   "id": "0251341b",
   "metadata": {},
   "source": [
    "We will build a stacking classifier both manually and with Sklearn's library. We'll start manually:"
   ]
  },
  {
   "cell_type": "code",
   "execution_count": 23,
   "id": "0d441398",
   "metadata": {},
   "outputs": [],
   "source": [
    "X_train_layer11 = voting.named_estimators_[\"rf\"].predict(X_val)\n",
    "X_train_layer12 = voting.named_estimators_[\"et\"].predict(X_val)\n",
    "X_train_layer13 = voting.named_estimators_[\"svc\"].predict(X_val)"
   ]
  },
  {
   "cell_type": "code",
   "execution_count": 44,
   "id": "aa215a1e",
   "metadata": {},
   "outputs": [],
   "source": [
    "X_train_layer1 = np.column_stack((X_train_layer11, X_train_layer12, X_train_layer13))"
   ]
  },
  {
   "cell_type": "code",
   "execution_count": 45,
   "id": "b516d93e",
   "metadata": {},
   "outputs": [
    {
     "data": {
      "text/plain": [
       "(10000, 3)"
      ]
     },
     "execution_count": 45,
     "metadata": {},
     "output_type": "execute_result"
    }
   ],
   "source": [
    "X_train_layer1.shape"
   ]
  },
  {
   "cell_type": "code",
   "execution_count": 46,
   "id": "220299ce",
   "metadata": {},
   "outputs": [
    {
     "data": {
      "text/html": [
       "<style>#sk-container-id-1 {color: black;background-color: white;}#sk-container-id-1 pre{padding: 0;}#sk-container-id-1 div.sk-toggleable {background-color: white;}#sk-container-id-1 label.sk-toggleable__label {cursor: pointer;display: block;width: 100%;margin-bottom: 0;padding: 0.3em;box-sizing: border-box;text-align: center;}#sk-container-id-1 label.sk-toggleable__label-arrow:before {content: \"▸\";float: left;margin-right: 0.25em;color: #696969;}#sk-container-id-1 label.sk-toggleable__label-arrow:hover:before {color: black;}#sk-container-id-1 div.sk-estimator:hover label.sk-toggleable__label-arrow:before {color: black;}#sk-container-id-1 div.sk-toggleable__content {max-height: 0;max-width: 0;overflow: hidden;text-align: left;background-color: #f0f8ff;}#sk-container-id-1 div.sk-toggleable__content pre {margin: 0.2em;color: black;border-radius: 0.25em;background-color: #f0f8ff;}#sk-container-id-1 input.sk-toggleable__control:checked~div.sk-toggleable__content {max-height: 200px;max-width: 100%;overflow: auto;}#sk-container-id-1 input.sk-toggleable__control:checked~label.sk-toggleable__label-arrow:before {content: \"▾\";}#sk-container-id-1 div.sk-estimator input.sk-toggleable__control:checked~label.sk-toggleable__label {background-color: #d4ebff;}#sk-container-id-1 div.sk-label input.sk-toggleable__control:checked~label.sk-toggleable__label {background-color: #d4ebff;}#sk-container-id-1 input.sk-hidden--visually {border: 0;clip: rect(1px 1px 1px 1px);clip: rect(1px, 1px, 1px, 1px);height: 1px;margin: -1px;overflow: hidden;padding: 0;position: absolute;width: 1px;}#sk-container-id-1 div.sk-estimator {font-family: monospace;background-color: #f0f8ff;border: 1px dotted black;border-radius: 0.25em;box-sizing: border-box;margin-bottom: 0.5em;}#sk-container-id-1 div.sk-estimator:hover {background-color: #d4ebff;}#sk-container-id-1 div.sk-parallel-item::after {content: \"\";width: 100%;border-bottom: 1px solid gray;flex-grow: 1;}#sk-container-id-1 div.sk-label:hover label.sk-toggleable__label {background-color: #d4ebff;}#sk-container-id-1 div.sk-serial::before {content: \"\";position: absolute;border-left: 1px solid gray;box-sizing: border-box;top: 0;bottom: 0;left: 50%;z-index: 0;}#sk-container-id-1 div.sk-serial {display: flex;flex-direction: column;align-items: center;background-color: white;padding-right: 0.2em;padding-left: 0.2em;position: relative;}#sk-container-id-1 div.sk-item {position: relative;z-index: 1;}#sk-container-id-1 div.sk-parallel {display: flex;align-items: stretch;justify-content: center;background-color: white;position: relative;}#sk-container-id-1 div.sk-item::before, #sk-container-id-1 div.sk-parallel-item::before {content: \"\";position: absolute;border-left: 1px solid gray;box-sizing: border-box;top: 0;bottom: 0;left: 50%;z-index: -1;}#sk-container-id-1 div.sk-parallel-item {display: flex;flex-direction: column;z-index: 1;position: relative;background-color: white;}#sk-container-id-1 div.sk-parallel-item:first-child::after {align-self: flex-end;width: 50%;}#sk-container-id-1 div.sk-parallel-item:last-child::after {align-self: flex-start;width: 50%;}#sk-container-id-1 div.sk-parallel-item:only-child::after {width: 0;}#sk-container-id-1 div.sk-dashed-wrapped {border: 1px dashed gray;margin: 0 0.4em 0.5em 0.4em;box-sizing: border-box;padding-bottom: 0.4em;background-color: white;}#sk-container-id-1 div.sk-label label {font-family: monospace;font-weight: bold;display: inline-block;line-height: 1.2em;}#sk-container-id-1 div.sk-label-container {text-align: center;}#sk-container-id-1 div.sk-container {/* jupyter's `normalize.less` sets `[hidden] { display: none; }` but bootstrap.min.css set `[hidden] { display: none !important; }` so we also need the `!important` here to be able to override the default hidden behavior on the sphinx rendered scikit-learn.org. See: https://github.com/scikit-learn/scikit-learn/issues/21755 */display: inline-block !important;position: relative;}#sk-container-id-1 div.sk-text-repr-fallback {display: none;}</style><div id=\"sk-container-id-1\" class=\"sk-top-container\"><div class=\"sk-text-repr-fallback\"><pre>RandomForestClassifier(random_state=42)</pre><b>In a Jupyter environment, please rerun this cell to show the HTML representation or trust the notebook. <br />On GitHub, the HTML representation is unable to render, please try loading this page with nbviewer.org.</b></div><div class=\"sk-container\" hidden><div class=\"sk-item\"><div class=\"sk-estimator sk-toggleable\"><input class=\"sk-toggleable__control sk-hidden--visually\" id=\"sk-estimator-id-1\" type=\"checkbox\" checked><label for=\"sk-estimator-id-1\" class=\"sk-toggleable__label sk-toggleable__label-arrow\">RandomForestClassifier</label><div class=\"sk-toggleable__content\"><pre>RandomForestClassifier(random_state=42)</pre></div></div></div></div></div>"
      ],
      "text/plain": [
       "RandomForestClassifier(random_state=42)"
      ]
     },
     "execution_count": 46,
     "metadata": {},
     "output_type": "execute_result"
    }
   ],
   "source": [
    "final_estimator = RandomForestClassifier(random_state=42)\n",
    "\n",
    "final_estimator.fit(X_train_layer1, y_val)"
   ]
  },
  {
   "cell_type": "code",
   "execution_count": 47,
   "id": "1697e675",
   "metadata": {},
   "outputs": [],
   "source": [
    "X_test_layer11 = voting.named_estimators_[\"rf\"].predict(X_test)\n",
    "X_test_layer12 = voting.named_estimators_[\"et\"].predict(X_test)\n",
    "X_test_layer13 = voting.named_estimators_[\"svc\"].predict(X_test)"
   ]
  },
  {
   "cell_type": "code",
   "execution_count": 48,
   "id": "7d4f9b5d",
   "metadata": {},
   "outputs": [],
   "source": [
    "X_test_layer1 = np.column_stack((X_test_layer11, X_test_layer12, X_test_layer13))"
   ]
  },
  {
   "cell_type": "code",
   "execution_count": 49,
   "id": "147a77c5",
   "metadata": {},
   "outputs": [
    {
     "name": "stdout",
     "output_type": "stream",
     "text": [
      "Accuracy score of the stacking classifier on the test set: 0.983\n"
     ]
    }
   ],
   "source": [
    "# Evaluate the performance on the test set\n",
    "accuracy = final_estimator.score(X_test_layer1, y_test)\n",
    "print(\"Accuracy score of the stacking classifier on the test set: {:.3f}\".format(accuracy))"
   ]
  },
  {
   "cell_type": "markdown",
   "id": "34bbd686",
   "metadata": {},
   "source": [
    "Now we will use Sklearn's StackingClassifier:"
   ]
  },
  {
   "cell_type": "code",
   "execution_count": 50,
   "id": "411ec4fc",
   "metadata": {},
   "outputs": [
    {
     "data": {
      "text/html": [
       "<style>#sk-container-id-2 {color: black;background-color: white;}#sk-container-id-2 pre{padding: 0;}#sk-container-id-2 div.sk-toggleable {background-color: white;}#sk-container-id-2 label.sk-toggleable__label {cursor: pointer;display: block;width: 100%;margin-bottom: 0;padding: 0.3em;box-sizing: border-box;text-align: center;}#sk-container-id-2 label.sk-toggleable__label-arrow:before {content: \"▸\";float: left;margin-right: 0.25em;color: #696969;}#sk-container-id-2 label.sk-toggleable__label-arrow:hover:before {color: black;}#sk-container-id-2 div.sk-estimator:hover label.sk-toggleable__label-arrow:before {color: black;}#sk-container-id-2 div.sk-toggleable__content {max-height: 0;max-width: 0;overflow: hidden;text-align: left;background-color: #f0f8ff;}#sk-container-id-2 div.sk-toggleable__content pre {margin: 0.2em;color: black;border-radius: 0.25em;background-color: #f0f8ff;}#sk-container-id-2 input.sk-toggleable__control:checked~div.sk-toggleable__content {max-height: 200px;max-width: 100%;overflow: auto;}#sk-container-id-2 input.sk-toggleable__control:checked~label.sk-toggleable__label-arrow:before {content: \"▾\";}#sk-container-id-2 div.sk-estimator input.sk-toggleable__control:checked~label.sk-toggleable__label {background-color: #d4ebff;}#sk-container-id-2 div.sk-label input.sk-toggleable__control:checked~label.sk-toggleable__label {background-color: #d4ebff;}#sk-container-id-2 input.sk-hidden--visually {border: 0;clip: rect(1px 1px 1px 1px);clip: rect(1px, 1px, 1px, 1px);height: 1px;margin: -1px;overflow: hidden;padding: 0;position: absolute;width: 1px;}#sk-container-id-2 div.sk-estimator {font-family: monospace;background-color: #f0f8ff;border: 1px dotted black;border-radius: 0.25em;box-sizing: border-box;margin-bottom: 0.5em;}#sk-container-id-2 div.sk-estimator:hover {background-color: #d4ebff;}#sk-container-id-2 div.sk-parallel-item::after {content: \"\";width: 100%;border-bottom: 1px solid gray;flex-grow: 1;}#sk-container-id-2 div.sk-label:hover label.sk-toggleable__label {background-color: #d4ebff;}#sk-container-id-2 div.sk-serial::before {content: \"\";position: absolute;border-left: 1px solid gray;box-sizing: border-box;top: 0;bottom: 0;left: 50%;z-index: 0;}#sk-container-id-2 div.sk-serial {display: flex;flex-direction: column;align-items: center;background-color: white;padding-right: 0.2em;padding-left: 0.2em;position: relative;}#sk-container-id-2 div.sk-item {position: relative;z-index: 1;}#sk-container-id-2 div.sk-parallel {display: flex;align-items: stretch;justify-content: center;background-color: white;position: relative;}#sk-container-id-2 div.sk-item::before, #sk-container-id-2 div.sk-parallel-item::before {content: \"\";position: absolute;border-left: 1px solid gray;box-sizing: border-box;top: 0;bottom: 0;left: 50%;z-index: -1;}#sk-container-id-2 div.sk-parallel-item {display: flex;flex-direction: column;z-index: 1;position: relative;background-color: white;}#sk-container-id-2 div.sk-parallel-item:first-child::after {align-self: flex-end;width: 50%;}#sk-container-id-2 div.sk-parallel-item:last-child::after {align-self: flex-start;width: 50%;}#sk-container-id-2 div.sk-parallel-item:only-child::after {width: 0;}#sk-container-id-2 div.sk-dashed-wrapped {border: 1px dashed gray;margin: 0 0.4em 0.5em 0.4em;box-sizing: border-box;padding-bottom: 0.4em;background-color: white;}#sk-container-id-2 div.sk-label label {font-family: monospace;font-weight: bold;display: inline-block;line-height: 1.2em;}#sk-container-id-2 div.sk-label-container {text-align: center;}#sk-container-id-2 div.sk-container {/* jupyter's `normalize.less` sets `[hidden] { display: none; }` but bootstrap.min.css set `[hidden] { display: none !important; }` so we also need the `!important` here to be able to override the default hidden behavior on the sphinx rendered scikit-learn.org. See: https://github.com/scikit-learn/scikit-learn/issues/21755 */display: inline-block !important;position: relative;}#sk-container-id-2 div.sk-text-repr-fallback {display: none;}</style><div id=\"sk-container-id-2\" class=\"sk-top-container\"><div class=\"sk-text-repr-fallback\"><pre>StackingClassifier(cv=5,\n",
       "                   estimators=[(&#x27;rf&#x27;,\n",
       "                                Pipeline(steps=[(&#x27;random_forest&#x27;,\n",
       "                                                 RandomForestClassifier(bootstrap=False,\n",
       "                                                                        max_depth=20,\n",
       "                                                                        min_samples_leaf=3,\n",
       "                                                                        min_samples_split=15,\n",
       "                                                                        n_estimators=1666,\n",
       "                                                                        random_state=42))])),\n",
       "                               (&#x27;et&#x27;,\n",
       "                                Pipeline(steps=[(&#x27;extra_trees&#x27;,\n",
       "                                                 ExtraTreesClassifier(max_depth=14,\n",
       "                                                                      min_samples_split=20,\n",
       "                                                                      n_estimators=2888,\n",
       "                                                                      random_state=42))])),\n",
       "                               (&#x27;svc&#x27;,\n",
       "                                Pipeline(steps=[(&#x27;svc_clf&#x27;,\n",
       "                                                 SVC(C=667, kernel=&#x27;poly&#x27;,\n",
       "                                                     probability=True,\n",
       "                                                     random_state=42))]))],\n",
       "                   final_estimator=RandomForestClassifier(random_state=42))</pre><b>In a Jupyter environment, please rerun this cell to show the HTML representation or trust the notebook. <br />On GitHub, the HTML representation is unable to render, please try loading this page with nbviewer.org.</b></div><div class=\"sk-container\" hidden><div class=\"sk-item sk-dashed-wrapped\"><div class=\"sk-label-container\"><div class=\"sk-label sk-toggleable\"><input class=\"sk-toggleable__control sk-hidden--visually\" id=\"sk-estimator-id-2\" type=\"checkbox\" ><label for=\"sk-estimator-id-2\" class=\"sk-toggleable__label sk-toggleable__label-arrow\">StackingClassifier</label><div class=\"sk-toggleable__content\"><pre>StackingClassifier(cv=5,\n",
       "                   estimators=[(&#x27;rf&#x27;,\n",
       "                                Pipeline(steps=[(&#x27;random_forest&#x27;,\n",
       "                                                 RandomForestClassifier(bootstrap=False,\n",
       "                                                                        max_depth=20,\n",
       "                                                                        min_samples_leaf=3,\n",
       "                                                                        min_samples_split=15,\n",
       "                                                                        n_estimators=1666,\n",
       "                                                                        random_state=42))])),\n",
       "                               (&#x27;et&#x27;,\n",
       "                                Pipeline(steps=[(&#x27;extra_trees&#x27;,\n",
       "                                                 ExtraTreesClassifier(max_depth=14,\n",
       "                                                                      min_samples_split=20,\n",
       "                                                                      n_estimators=2888,\n",
       "                                                                      random_state=42))])),\n",
       "                               (&#x27;svc&#x27;,\n",
       "                                Pipeline(steps=[(&#x27;svc_clf&#x27;,\n",
       "                                                 SVC(C=667, kernel=&#x27;poly&#x27;,\n",
       "                                                     probability=True,\n",
       "                                                     random_state=42))]))],\n",
       "                   final_estimator=RandomForestClassifier(random_state=42))</pre></div></div></div><div class=\"sk-serial\"><div class=\"sk-item\"><div class=\"sk-parallel\"><div class=\"sk-parallel-item\"><div class=\"sk-item\"><div class=\"sk-label-container\"><div class=\"sk-label sk-toggleable\"><label>rf</label></div></div><div class=\"sk-serial\"><div class=\"sk-item\"><div class=\"sk-serial\"><div class=\"sk-item\"><div class=\"sk-estimator sk-toggleable\"><input class=\"sk-toggleable__control sk-hidden--visually\" id=\"sk-estimator-id-3\" type=\"checkbox\" ><label for=\"sk-estimator-id-3\" class=\"sk-toggleable__label sk-toggleable__label-arrow\">RandomForestClassifier</label><div class=\"sk-toggleable__content\"><pre>RandomForestClassifier(bootstrap=False, max_depth=20, min_samples_leaf=3,\n",
       "                       min_samples_split=15, n_estimators=1666,\n",
       "                       random_state=42)</pre></div></div></div></div></div></div></div></div><div class=\"sk-parallel-item\"><div class=\"sk-item\"><div class=\"sk-label-container\"><div class=\"sk-label sk-toggleable\"><label>et</label></div></div><div class=\"sk-serial\"><div class=\"sk-item\"><div class=\"sk-serial\"><div class=\"sk-item\"><div class=\"sk-estimator sk-toggleable\"><input class=\"sk-toggleable__control sk-hidden--visually\" id=\"sk-estimator-id-4\" type=\"checkbox\" ><label for=\"sk-estimator-id-4\" class=\"sk-toggleable__label sk-toggleable__label-arrow\">ExtraTreesClassifier</label><div class=\"sk-toggleable__content\"><pre>ExtraTreesClassifier(max_depth=14, min_samples_split=20, n_estimators=2888,\n",
       "                     random_state=42)</pre></div></div></div></div></div></div></div></div><div class=\"sk-parallel-item\"><div class=\"sk-item\"><div class=\"sk-label-container\"><div class=\"sk-label sk-toggleable\"><label>svc</label></div></div><div class=\"sk-serial\"><div class=\"sk-item\"><div class=\"sk-serial\"><div class=\"sk-item\"><div class=\"sk-estimator sk-toggleable\"><input class=\"sk-toggleable__control sk-hidden--visually\" id=\"sk-estimator-id-5\" type=\"checkbox\" ><label for=\"sk-estimator-id-5\" class=\"sk-toggleable__label sk-toggleable__label-arrow\">SVC</label><div class=\"sk-toggleable__content\"><pre>SVC(C=667, kernel=&#x27;poly&#x27;, probability=True, random_state=42)</pre></div></div></div></div></div></div></div></div></div></div><div class=\"sk-item\"><div class=\"sk-parallel\"><div class=\"sk-parallel-item\"><div class=\"sk-item\"><div class=\"sk-label-container\"><div class=\"sk-label sk-toggleable\"><label>final_estimator</label></div></div><div class=\"sk-serial\"><div class=\"sk-item\"><div class=\"sk-estimator sk-toggleable\"><input class=\"sk-toggleable__control sk-hidden--visually\" id=\"sk-estimator-id-6\" type=\"checkbox\" ><label for=\"sk-estimator-id-6\" class=\"sk-toggleable__label sk-toggleable__label-arrow\">RandomForestClassifier</label><div class=\"sk-toggleable__content\"><pre>RandomForestClassifier(random_state=42)</pre></div></div></div></div></div></div></div></div></div></div></div></div>"
      ],
      "text/plain": [
       "StackingClassifier(cv=5,\n",
       "                   estimators=[('rf',\n",
       "                                Pipeline(steps=[('random_forest',\n",
       "                                                 RandomForestClassifier(bootstrap=False,\n",
       "                                                                        max_depth=20,\n",
       "                                                                        min_samples_leaf=3,\n",
       "                                                                        min_samples_split=15,\n",
       "                                                                        n_estimators=1666,\n",
       "                                                                        random_state=42))])),\n",
       "                               ('et',\n",
       "                                Pipeline(steps=[('extra_trees',\n",
       "                                                 ExtraTreesClassifier(max_depth=14,\n",
       "                                                                      min_samples_split=20,\n",
       "                                                                      n_estimators=2888,\n",
       "                                                                      random_state=42))])),\n",
       "                               ('svc',\n",
       "                                Pipeline(steps=[('svc_clf',\n",
       "                                                 SVC(C=667, kernel='poly',\n",
       "                                                     probability=True,\n",
       "                                                     random_state=42))]))],\n",
       "                   final_estimator=RandomForestClassifier(random_state=42))"
      ]
     },
     "execution_count": 50,
     "metadata": {},
     "output_type": "execute_result"
    }
   ],
   "source": [
    "from sklearn.ensemble import StackingClassifier\n",
    "\n",
    "stacking_clf = StackingClassifier(\n",
    "                estimators=[\n",
    "                    ('rf', voting.named_estimators_[\"rf\"]),\n",
    "                    ('et', voting.named_estimators_[\"et\"]),\n",
    "                    ('svc', voting.named_estimators_[\"svc\"])\n",
    "                ],\n",
    "                final_estimator=RandomForestClassifier(random_state=42),\n",
    "                cv=5\n",
    ")\n",
    "stacking_clf.fit(X_val, y_val)"
   ]
  },
  {
   "cell_type": "code",
   "execution_count": 51,
   "id": "7a467f6e",
   "metadata": {},
   "outputs": [
    {
     "name": "stdout",
     "output_type": "stream",
     "text": [
      "Accuracy score of Sklearn's stacking classifier on the test set: 0.964\n"
     ]
    }
   ],
   "source": [
    "# Evaluate the performance on the test set\n",
    "accuracy = stacking_clf.score(X_test, y_test)\n",
    "print(\"Accuracy score of Sklearn's stacking classifier on the test set: {:.3f}\".format(accuracy))"
   ]
  }
 ],
 "metadata": {
  "kernelspec": {
   "display_name": "Python 3 (ipykernel)",
   "language": "python",
   "name": "python3"
  },
  "language_info": {
   "codemirror_mode": {
    "name": "ipython",
    "version": 3
   },
   "file_extension": ".py",
   "mimetype": "text/x-python",
   "name": "python",
   "nbconvert_exporter": "python",
   "pygments_lexer": "ipython3",
   "version": "3.10.8"
  }
 },
 "nbformat": 4,
 "nbformat_minor": 5
}
